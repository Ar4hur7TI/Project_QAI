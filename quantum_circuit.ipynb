{
 "cells": [
  {
   "cell_type": "markdown",
   "source": [
    "# Importing Qiskit library"
   ],
   "metadata": {
    "collapsed": false
   },
   "id": "4f62e765e5712f02"
  },
  {
   "cell_type": "markdown",
   "source": [
    "This is a sample example used to show how to determine if there are quantum bits that are not zero by a single measurement"
   ],
   "metadata": {
    "collapsed": false
   },
   "id": "ed18f957bdc7b83b"
  },
  {
   "cell_type": "code",
   "execution_count": 2,
   "outputs": [
    {
     "ename": "ImportError",
     "evalue": "cannot import name 'execute' from 'qiskit' (D:\\Python\\Project_QAI\\.venv\\Lib\\site-packages\\qiskit\\__init__.py)",
     "output_type": "error",
     "traceback": [
      "\u001B[1;31m---------------------------------------------------------------------------\u001B[0m",
      "\u001B[1;31mImportError\u001B[0m                               Traceback (most recent call last)",
      "Cell \u001B[1;32mIn[2], line 1\u001B[0m\n\u001B[1;32m----> 1\u001B[0m \u001B[38;5;28;01mfrom\u001B[39;00m \u001B[38;5;21;01mqiskit\u001B[39;00m \u001B[38;5;28;01mimport\u001B[39;00m QuantumCircuit, execute, Aer\n\u001B[0;32m      2\u001B[0m \u001B[38;5;28;01mfrom\u001B[39;00m \u001B[38;5;21;01mqiskit\u001B[39;00m\u001B[38;5;21;01m.\u001B[39;00m\u001B[38;5;21;01mvisualization\u001B[39;00m \u001B[38;5;28;01mimport\u001B[39;00m plot_histogram\n",
      "\u001B[1;31mImportError\u001B[0m: cannot import name 'execute' from 'qiskit' (D:\\Python\\Project_QAI\\.venv\\Lib\\site-packages\\qiskit\\__init__.py)"
     ]
    }
   ],
   "source": [
    "from qiskit import QuantumCircuit, execute, Aer\n",
    "from qiskit.visualization import plot_histogram"
   ],
   "metadata": {
    "collapsed": false,
    "ExecuteTime": {
     "end_time": "2024-03-01T06:47:42.571592200Z",
     "start_time": "2024-03-01T06:47:42.528821100Z"
    }
   },
   "id": "5b2b51fb60b5fb9e"
  },
  {
   "cell_type": "markdown",
   "source": [
    "# Create a quantum circuit with 3 target qubits and 1 ancilla qubit"
   ],
   "metadata": {
    "collapsed": false
   },
   "id": "25538d0accc6a55e"
  },
  {
   "cell_type": "code",
   "execution_count": 3,
   "outputs": [],
   "source": [
    "qc = QuantumCircuit(4, 1)"
   ],
   "metadata": {
    "collapsed": false,
    "ExecuteTime": {
     "end_time": "2024-03-01T06:47:42.624267600Z",
     "start_time": "2024-03-01T06:47:42.575226400Z"
    }
   },
   "id": "ca665257bdef876"
  },
  {
   "cell_type": "markdown",
   "source": [
    "# Apply Hadamard gate to all target qubits and the ancilla qubit"
   ],
   "metadata": {
    "collapsed": false
   },
   "id": "88ec3312b424360b"
  },
  {
   "cell_type": "code",
   "execution_count": 4,
   "outputs": [],
   "source": [
    "for i in range(4):\n",
    "    qc.h(i)"
   ],
   "metadata": {
    "collapsed": false,
    "ExecuteTime": {
     "end_time": "2024-03-01T06:47:42.638975200Z",
     "start_time": "2024-03-01T06:47:42.624267600Z"
    }
   },
   "id": "d77414a42b5aed0"
  },
  {
   "cell_type": "markdown",
   "source": [
    "# Apply CNOT gates from each target qubit to the ancilla qubit"
   ],
   "metadata": {
    "collapsed": false
   },
   "id": "d94efa29cb937090"
  },
  {
   "cell_type": "code",
   "execution_count": 5,
   "outputs": [],
   "source": [
    "for i in range(3):\n",
    "    qc.cx(i, 3)"
   ],
   "metadata": {
    "collapsed": false,
    "ExecuteTime": {
     "end_time": "2024-03-01T06:47:42.652905200Z",
     "start_time": "2024-03-01T06:47:42.641977600Z"
    }
   },
   "id": "b2ccee562a46650"
  },
  {
   "cell_type": "markdown",
   "source": [
    "# Apply another Hadamard gate to the ancilla qubit"
   ],
   "metadata": {
    "collapsed": false
   },
   "id": "2bbe34a562d78462"
  },
  {
   "cell_type": "code",
   "execution_count": 6,
   "outputs": [
    {
     "data": {
      "text/plain": "<qiskit.circuit.instructionset.InstructionSet at 0x238b5e405b0>"
     },
     "execution_count": 6,
     "metadata": {},
     "output_type": "execute_result"
    }
   ],
   "source": [
    "qc.h(3)"
   ],
   "metadata": {
    "collapsed": false,
    "ExecuteTime": {
     "end_time": "2024-03-01T06:47:42.668643400Z",
     "start_time": "2024-03-01T06:47:42.646792300Z"
    }
   },
   "id": "263dc43ff12c8632"
  },
  {
   "cell_type": "markdown",
   "source": [
    "# Measure the ancilla qubit"
   ],
   "metadata": {
    "collapsed": false
   },
   "id": "1d18d73dcc7522ec"
  },
  {
   "cell_type": "code",
   "execution_count": 7,
   "outputs": [
    {
     "data": {
      "text/plain": "<qiskit.circuit.instructionset.InstructionSet at 0x238b5d27a00>"
     },
     "execution_count": 7,
     "metadata": {},
     "output_type": "execute_result"
    }
   ],
   "source": [
    "qc.measure(3, 0)"
   ],
   "metadata": {
    "collapsed": false,
    "ExecuteTime": {
     "end_time": "2024-03-01T06:47:42.670645500Z",
     "start_time": "2024-03-01T06:47:42.654899Z"
    }
   },
   "id": "134bf80912855981"
  },
  {
   "cell_type": "markdown",
   "source": [
    "# Visualize the circuit"
   ],
   "metadata": {
    "collapsed": false
   },
   "id": "c385cb80e8ae01b1"
  },
  {
   "cell_type": "code",
   "execution_count": 8,
   "outputs": [
    {
     "ename": "MissingOptionalLibraryError",
     "evalue": "\"The 'matplotlib' library is required to use 'MatplotlibDrawer'. You can install it with 'pip install matplotlib'.\"",
     "output_type": "error",
     "traceback": [
      "\u001B[1;31m---------------------------------------------------------------------------\u001B[0m",
      "\u001B[1;31mMissingOptionalLibraryError\u001B[0m               Traceback (most recent call last)",
      "Cell \u001B[1;32mIn[8], line 1\u001B[0m\n\u001B[1;32m----> 1\u001B[0m \u001B[43mqc\u001B[49m\u001B[38;5;241;43m.\u001B[39;49m\u001B[43mdraw\u001B[49m\u001B[43m(\u001B[49m\u001B[38;5;124;43m'\u001B[39;49m\u001B[38;5;124;43mmpl\u001B[39;49m\u001B[38;5;124;43m'\u001B[39;49m\u001B[43m)\u001B[49m\n",
      "File \u001B[1;32mD:\\Python\\Project_QAI\\.venv\\Lib\\site-packages\\qiskit\\circuit\\quantumcircuit.py:1800\u001B[0m, in \u001B[0;36mQuantumCircuit.draw\u001B[1;34m(self, output, scale, filename, style, interactive, plot_barriers, reverse_bits, justify, vertical_compression, idle_wires, with_layout, fold, ax, initial_state, cregbundle, wire_order, expr_len)\u001B[0m\n\u001B[0;32m   1797\u001B[0m \u001B[38;5;66;03m# pylint: disable=cyclic-import\u001B[39;00m\n\u001B[0;32m   1798\u001B[0m \u001B[38;5;28;01mfrom\u001B[39;00m \u001B[38;5;21;01mqiskit\u001B[39;00m\u001B[38;5;21;01m.\u001B[39;00m\u001B[38;5;21;01mvisualization\u001B[39;00m \u001B[38;5;28;01mimport\u001B[39;00m circuit_drawer\n\u001B[1;32m-> 1800\u001B[0m \u001B[38;5;28;01mreturn\u001B[39;00m \u001B[43mcircuit_drawer\u001B[49m\u001B[43m(\u001B[49m\n\u001B[0;32m   1801\u001B[0m \u001B[43m    \u001B[49m\u001B[38;5;28;43mself\u001B[39;49m\u001B[43m,\u001B[49m\n\u001B[0;32m   1802\u001B[0m \u001B[43m    \u001B[49m\u001B[43mscale\u001B[49m\u001B[38;5;241;43m=\u001B[39;49m\u001B[43mscale\u001B[49m\u001B[43m,\u001B[49m\n\u001B[0;32m   1803\u001B[0m \u001B[43m    \u001B[49m\u001B[43mfilename\u001B[49m\u001B[38;5;241;43m=\u001B[39;49m\u001B[43mfilename\u001B[49m\u001B[43m,\u001B[49m\n\u001B[0;32m   1804\u001B[0m \u001B[43m    \u001B[49m\u001B[43mstyle\u001B[49m\u001B[38;5;241;43m=\u001B[39;49m\u001B[43mstyle\u001B[49m\u001B[43m,\u001B[49m\n\u001B[0;32m   1805\u001B[0m \u001B[43m    \u001B[49m\u001B[43moutput\u001B[49m\u001B[38;5;241;43m=\u001B[39;49m\u001B[43moutput\u001B[49m\u001B[43m,\u001B[49m\n\u001B[0;32m   1806\u001B[0m \u001B[43m    \u001B[49m\u001B[43minteractive\u001B[49m\u001B[38;5;241;43m=\u001B[39;49m\u001B[43minteractive\u001B[49m\u001B[43m,\u001B[49m\n\u001B[0;32m   1807\u001B[0m \u001B[43m    \u001B[49m\u001B[43mplot_barriers\u001B[49m\u001B[38;5;241;43m=\u001B[39;49m\u001B[43mplot_barriers\u001B[49m\u001B[43m,\u001B[49m\n\u001B[0;32m   1808\u001B[0m \u001B[43m    \u001B[49m\u001B[43mreverse_bits\u001B[49m\u001B[38;5;241;43m=\u001B[39;49m\u001B[43mreverse_bits\u001B[49m\u001B[43m,\u001B[49m\n\u001B[0;32m   1809\u001B[0m \u001B[43m    \u001B[49m\u001B[43mjustify\u001B[49m\u001B[38;5;241;43m=\u001B[39;49m\u001B[43mjustify\u001B[49m\u001B[43m,\u001B[49m\n\u001B[0;32m   1810\u001B[0m \u001B[43m    \u001B[49m\u001B[43mvertical_compression\u001B[49m\u001B[38;5;241;43m=\u001B[39;49m\u001B[43mvertical_compression\u001B[49m\u001B[43m,\u001B[49m\n\u001B[0;32m   1811\u001B[0m \u001B[43m    \u001B[49m\u001B[43midle_wires\u001B[49m\u001B[38;5;241;43m=\u001B[39;49m\u001B[43midle_wires\u001B[49m\u001B[43m,\u001B[49m\n\u001B[0;32m   1812\u001B[0m \u001B[43m    \u001B[49m\u001B[43mwith_layout\u001B[49m\u001B[38;5;241;43m=\u001B[39;49m\u001B[43mwith_layout\u001B[49m\u001B[43m,\u001B[49m\n\u001B[0;32m   1813\u001B[0m \u001B[43m    \u001B[49m\u001B[43mfold\u001B[49m\u001B[38;5;241;43m=\u001B[39;49m\u001B[43mfold\u001B[49m\u001B[43m,\u001B[49m\n\u001B[0;32m   1814\u001B[0m \u001B[43m    \u001B[49m\u001B[43max\u001B[49m\u001B[38;5;241;43m=\u001B[39;49m\u001B[43max\u001B[49m\u001B[43m,\u001B[49m\n\u001B[0;32m   1815\u001B[0m \u001B[43m    \u001B[49m\u001B[43minitial_state\u001B[49m\u001B[38;5;241;43m=\u001B[39;49m\u001B[43minitial_state\u001B[49m\u001B[43m,\u001B[49m\n\u001B[0;32m   1816\u001B[0m \u001B[43m    \u001B[49m\u001B[43mcregbundle\u001B[49m\u001B[38;5;241;43m=\u001B[39;49m\u001B[43mcregbundle\u001B[49m\u001B[43m,\u001B[49m\n\u001B[0;32m   1817\u001B[0m \u001B[43m    \u001B[49m\u001B[43mwire_order\u001B[49m\u001B[38;5;241;43m=\u001B[39;49m\u001B[43mwire_order\u001B[49m\u001B[43m,\u001B[49m\n\u001B[0;32m   1818\u001B[0m \u001B[43m    \u001B[49m\u001B[43mexpr_len\u001B[49m\u001B[38;5;241;43m=\u001B[39;49m\u001B[43mexpr_len\u001B[49m\u001B[43m,\u001B[49m\n\u001B[0;32m   1819\u001B[0m \u001B[43m\u001B[49m\u001B[43m)\u001B[49m\n",
      "File \u001B[1;32mD:\\Python\\Project_QAI\\.venv\\Lib\\site-packages\\qiskit\\visualization\\circuit\\circuit_visualization.py:323\u001B[0m, in \u001B[0;36mcircuit_drawer\u001B[1;34m(circuit, scale, filename, style, output, interactive, plot_barriers, reverse_bits, justify, vertical_compression, idle_wires, with_layout, fold, ax, initial_state, cregbundle, wire_order, expr_len)\u001B[0m\n\u001B[0;32m    308\u001B[0m     \u001B[38;5;28;01mreturn\u001B[39;00m _generate_latex_source(\n\u001B[0;32m    309\u001B[0m         circuit,\n\u001B[0;32m    310\u001B[0m         filename\u001B[38;5;241m=\u001B[39mfilename,\n\u001B[1;32m   (...)\u001B[0m\n\u001B[0;32m    320\u001B[0m         wire_order\u001B[38;5;241m=\u001B[39mcomplete_wire_order,\n\u001B[0;32m    321\u001B[0m     )\n\u001B[0;32m    322\u001B[0m \u001B[38;5;28;01melif\u001B[39;00m output \u001B[38;5;241m==\u001B[39m \u001B[38;5;124m\"\u001B[39m\u001B[38;5;124mmpl\u001B[39m\u001B[38;5;124m\"\u001B[39m:\n\u001B[1;32m--> 323\u001B[0m     image \u001B[38;5;241m=\u001B[39m \u001B[43m_matplotlib_circuit_drawer\u001B[49m\u001B[43m(\u001B[49m\n\u001B[0;32m    324\u001B[0m \u001B[43m        \u001B[49m\u001B[43mcircuit\u001B[49m\u001B[43m,\u001B[49m\n\u001B[0;32m    325\u001B[0m \u001B[43m        \u001B[49m\u001B[43mscale\u001B[49m\u001B[38;5;241;43m=\u001B[39;49m\u001B[43mscale\u001B[49m\u001B[43m,\u001B[49m\n\u001B[0;32m    326\u001B[0m \u001B[43m        \u001B[49m\u001B[43mfilename\u001B[49m\u001B[38;5;241;43m=\u001B[39;49m\u001B[43mfilename\u001B[49m\u001B[43m,\u001B[49m\n\u001B[0;32m    327\u001B[0m \u001B[43m        \u001B[49m\u001B[43mstyle\u001B[49m\u001B[38;5;241;43m=\u001B[39;49m\u001B[43mstyle\u001B[49m\u001B[43m,\u001B[49m\n\u001B[0;32m    328\u001B[0m \u001B[43m        \u001B[49m\u001B[43mplot_barriers\u001B[49m\u001B[38;5;241;43m=\u001B[39;49m\u001B[43mplot_barriers\u001B[49m\u001B[43m,\u001B[49m\n\u001B[0;32m    329\u001B[0m \u001B[43m        \u001B[49m\u001B[43mreverse_bits\u001B[49m\u001B[38;5;241;43m=\u001B[39;49m\u001B[43mreverse_bits\u001B[49m\u001B[43m,\u001B[49m\n\u001B[0;32m    330\u001B[0m \u001B[43m        \u001B[49m\u001B[43mjustify\u001B[49m\u001B[38;5;241;43m=\u001B[39;49m\u001B[43mjustify\u001B[49m\u001B[43m,\u001B[49m\n\u001B[0;32m    331\u001B[0m \u001B[43m        \u001B[49m\u001B[43midle_wires\u001B[49m\u001B[38;5;241;43m=\u001B[39;49m\u001B[43midle_wires\u001B[49m\u001B[43m,\u001B[49m\n\u001B[0;32m    332\u001B[0m \u001B[43m        \u001B[49m\u001B[43mwith_layout\u001B[49m\u001B[38;5;241;43m=\u001B[39;49m\u001B[43mwith_layout\u001B[49m\u001B[43m,\u001B[49m\n\u001B[0;32m    333\u001B[0m \u001B[43m        \u001B[49m\u001B[43mfold\u001B[49m\u001B[38;5;241;43m=\u001B[39;49m\u001B[43mfold\u001B[49m\u001B[43m,\u001B[49m\n\u001B[0;32m    334\u001B[0m \u001B[43m        \u001B[49m\u001B[43max\u001B[49m\u001B[38;5;241;43m=\u001B[39;49m\u001B[43max\u001B[49m\u001B[43m,\u001B[49m\n\u001B[0;32m    335\u001B[0m \u001B[43m        \u001B[49m\u001B[43minitial_state\u001B[49m\u001B[38;5;241;43m=\u001B[39;49m\u001B[43minitial_state\u001B[49m\u001B[43m,\u001B[49m\n\u001B[0;32m    336\u001B[0m \u001B[43m        \u001B[49m\u001B[43mcregbundle\u001B[49m\u001B[38;5;241;43m=\u001B[39;49m\u001B[43mcregbundle\u001B[49m\u001B[43m,\u001B[49m\n\u001B[0;32m    337\u001B[0m \u001B[43m        \u001B[49m\u001B[43mwire_order\u001B[49m\u001B[38;5;241;43m=\u001B[39;49m\u001B[43mcomplete_wire_order\u001B[49m\u001B[43m,\u001B[49m\n\u001B[0;32m    338\u001B[0m \u001B[43m        \u001B[49m\u001B[43mexpr_len\u001B[49m\u001B[38;5;241;43m=\u001B[39;49m\u001B[43mexpr_len\u001B[49m\u001B[43m,\u001B[49m\n\u001B[0;32m    339\u001B[0m \u001B[43m    \u001B[49m\u001B[43m)\u001B[49m\n\u001B[0;32m    340\u001B[0m \u001B[38;5;28;01melse\u001B[39;00m:\n\u001B[0;32m    341\u001B[0m     \u001B[38;5;28;01mraise\u001B[39;00m VisualizationError(\n\u001B[0;32m    342\u001B[0m         \u001B[38;5;124m\"\u001B[39m\u001B[38;5;124mInvalid output type \u001B[39m\u001B[38;5;132;01m%s\u001B[39;00m\u001B[38;5;124m selected. The only valid choices \u001B[39m\u001B[38;5;124m\"\u001B[39m\n\u001B[0;32m    343\u001B[0m         \u001B[38;5;124m\"\u001B[39m\u001B[38;5;124mare text, latex, latex_source, and mpl\u001B[39m\u001B[38;5;124m\"\u001B[39m \u001B[38;5;241m%\u001B[39m output\n\u001B[0;32m    344\u001B[0m     )\n",
      "File \u001B[1;32mD:\\Python\\Project_QAI\\.venv\\Lib\\site-packages\\qiskit\\visualization\\circuit\\circuit_visualization.py:703\u001B[0m, in \u001B[0;36m_matplotlib_circuit_drawer\u001B[1;34m(circuit, scale, filename, style, plot_barriers, reverse_bits, justify, idle_wires, with_layout, fold, ax, initial_state, cregbundle, wire_order, expr_len)\u001B[0m\n\u001B[0;32m    700\u001B[0m \u001B[38;5;28;01mif\u001B[39;00m fold \u001B[38;5;129;01mis\u001B[39;00m \u001B[38;5;28;01mNone\u001B[39;00m:\n\u001B[0;32m    701\u001B[0m     fold \u001B[38;5;241m=\u001B[39m \u001B[38;5;241m25\u001B[39m\n\u001B[1;32m--> 703\u001B[0m qcd \u001B[38;5;241m=\u001B[39m \u001B[43m_matplotlib\u001B[49m\u001B[38;5;241;43m.\u001B[39;49m\u001B[43mMatplotlibDrawer\u001B[49m\u001B[43m(\u001B[49m\n\u001B[0;32m    704\u001B[0m \u001B[43m    \u001B[49m\u001B[43mqubits\u001B[49m\u001B[43m,\u001B[49m\n\u001B[0;32m    705\u001B[0m \u001B[43m    \u001B[49m\u001B[43mclbits\u001B[49m\u001B[43m,\u001B[49m\n\u001B[0;32m    706\u001B[0m \u001B[43m    \u001B[49m\u001B[43mnodes\u001B[49m\u001B[43m,\u001B[49m\n\u001B[0;32m    707\u001B[0m \u001B[43m    \u001B[49m\u001B[43mcircuit\u001B[49m\u001B[43m,\u001B[49m\n\u001B[0;32m    708\u001B[0m \u001B[43m    \u001B[49m\u001B[43mscale\u001B[49m\u001B[38;5;241;43m=\u001B[39;49m\u001B[43mscale\u001B[49m\u001B[43m,\u001B[49m\n\u001B[0;32m    709\u001B[0m \u001B[43m    \u001B[49m\u001B[43mstyle\u001B[49m\u001B[38;5;241;43m=\u001B[39;49m\u001B[43mstyle\u001B[49m\u001B[43m,\u001B[49m\n\u001B[0;32m    710\u001B[0m \u001B[43m    \u001B[49m\u001B[43mreverse_bits\u001B[49m\u001B[38;5;241;43m=\u001B[39;49m\u001B[43mreverse_bits\u001B[49m\u001B[43m,\u001B[49m\n\u001B[0;32m    711\u001B[0m \u001B[43m    \u001B[49m\u001B[43mplot_barriers\u001B[49m\u001B[38;5;241;43m=\u001B[39;49m\u001B[43mplot_barriers\u001B[49m\u001B[43m,\u001B[49m\n\u001B[0;32m    712\u001B[0m \u001B[43m    \u001B[49m\u001B[43mfold\u001B[49m\u001B[38;5;241;43m=\u001B[39;49m\u001B[43mfold\u001B[49m\u001B[43m,\u001B[49m\n\u001B[0;32m    713\u001B[0m \u001B[43m    \u001B[49m\u001B[43max\u001B[49m\u001B[38;5;241;43m=\u001B[39;49m\u001B[43max\u001B[49m\u001B[43m,\u001B[49m\n\u001B[0;32m    714\u001B[0m \u001B[43m    \u001B[49m\u001B[43minitial_state\u001B[49m\u001B[38;5;241;43m=\u001B[39;49m\u001B[43minitial_state\u001B[49m\u001B[43m,\u001B[49m\n\u001B[0;32m    715\u001B[0m \u001B[43m    \u001B[49m\u001B[43mcregbundle\u001B[49m\u001B[38;5;241;43m=\u001B[39;49m\u001B[43mcregbundle\u001B[49m\u001B[43m,\u001B[49m\n\u001B[0;32m    716\u001B[0m \u001B[43m    \u001B[49m\u001B[43mwith_layout\u001B[49m\u001B[38;5;241;43m=\u001B[39;49m\u001B[43mwith_layout\u001B[49m\u001B[43m,\u001B[49m\n\u001B[0;32m    717\u001B[0m \u001B[43m    \u001B[49m\u001B[43mexpr_len\u001B[49m\u001B[38;5;241;43m=\u001B[39;49m\u001B[43mexpr_len\u001B[49m\u001B[43m,\u001B[49m\n\u001B[0;32m    718\u001B[0m \u001B[43m\u001B[49m\u001B[43m)\u001B[49m\n\u001B[0;32m    719\u001B[0m \u001B[38;5;28;01mreturn\u001B[39;00m qcd\u001B[38;5;241m.\u001B[39mdraw(filename)\n",
      "File \u001B[1;32mD:\\Python\\Project_QAI\\.venv\\Lib\\site-packages\\qiskit\\utils\\classtools.py:111\u001B[0m, in \u001B[0;36m_WrappedMethod.__get__.<locals>.out\u001B[1;34m(*args, **kwargs)\u001B[0m\n\u001B[0;32m    108\u001B[0m \u001B[38;5;129m@functools\u001B[39m\u001B[38;5;241m.\u001B[39mwraps(method)\n\u001B[0;32m    109\u001B[0m \u001B[38;5;28;01mdef\u001B[39;00m \u001B[38;5;21mout\u001B[39m(\u001B[38;5;241m*\u001B[39margs, \u001B[38;5;241m*\u001B[39m\u001B[38;5;241m*\u001B[39mkwargs):\n\u001B[0;32m    110\u001B[0m     \u001B[38;5;28;01mfor\u001B[39;00m callback \u001B[38;5;129;01min\u001B[39;00m \u001B[38;5;28mself\u001B[39m\u001B[38;5;241m.\u001B[39m_before:\n\u001B[1;32m--> 111\u001B[0m         \u001B[43mcallback\u001B[49m\u001B[38;5;241;43m.\u001B[39;49m\u001B[38;5;21;43m__get__\u001B[39;49m\u001B[43m(\u001B[49m\u001B[43mobj\u001B[49m\u001B[43m,\u001B[49m\u001B[43m \u001B[49m\u001B[43mobjtype\u001B[49m\u001B[43m)\u001B[49m\u001B[43m(\u001B[49m\u001B[38;5;241;43m*\u001B[39;49m\u001B[43margs\u001B[49m\u001B[43m,\u001B[49m\u001B[43m \u001B[49m\u001B[38;5;241;43m*\u001B[39;49m\u001B[38;5;241;43m*\u001B[39;49m\u001B[43mkwargs\u001B[49m\u001B[43m)\u001B[49m\n\u001B[0;32m    112\u001B[0m     retval \u001B[38;5;241m=\u001B[39m method(\u001B[38;5;241m*\u001B[39margs, \u001B[38;5;241m*\u001B[39m\u001B[38;5;241m*\u001B[39mkwargs)\n\u001B[0;32m    113\u001B[0m     \u001B[38;5;28;01mfor\u001B[39;00m callback \u001B[38;5;129;01min\u001B[39;00m \u001B[38;5;28mself\u001B[39m\u001B[38;5;241m.\u001B[39m_after:\n",
      "File \u001B[1;32mD:\\Python\\Project_QAI\\.venv\\Lib\\site-packages\\qiskit\\utils\\lazy_tester.py:41\u001B[0m, in \u001B[0;36m_RequireNow.__call__\u001B[1;34m(self, *_args, **_kwargs)\u001B[0m\n\u001B[0;32m     40\u001B[0m \u001B[38;5;28;01mdef\u001B[39;00m \u001B[38;5;21m__call__\u001B[39m(\u001B[38;5;28mself\u001B[39m, \u001B[38;5;241m*\u001B[39m_args, \u001B[38;5;241m*\u001B[39m\u001B[38;5;241m*\u001B[39m_kwargs):\n\u001B[1;32m---> 41\u001B[0m     \u001B[38;5;28;43mself\u001B[39;49m\u001B[38;5;241;43m.\u001B[39;49m\u001B[43m_tester\u001B[49m\u001B[38;5;241;43m.\u001B[39;49m\u001B[43mrequire_now\u001B[49m\u001B[43m(\u001B[49m\u001B[38;5;28;43mself\u001B[39;49m\u001B[38;5;241;43m.\u001B[39;49m\u001B[43m_feature\u001B[49m\u001B[43m)\u001B[49m\n",
      "File \u001B[1;32mD:\\Python\\Project_QAI\\.venv\\Lib\\site-packages\\qiskit\\utils\\lazy_tester.py:221\u001B[0m, in \u001B[0;36mLazyDependencyManager.require_now\u001B[1;34m(self, feature)\u001B[0m\n\u001B[0;32m    219\u001B[0m \u001B[38;5;28;01mif\u001B[39;00m \u001B[38;5;28mself\u001B[39m:\n\u001B[0;32m    220\u001B[0m     \u001B[38;5;28;01mreturn\u001B[39;00m\n\u001B[1;32m--> 221\u001B[0m \u001B[38;5;28;01mraise\u001B[39;00m MissingOptionalLibraryError(\n\u001B[0;32m    222\u001B[0m     libname\u001B[38;5;241m=\u001B[39m\u001B[38;5;28mself\u001B[39m\u001B[38;5;241m.\u001B[39m_name, name\u001B[38;5;241m=\u001B[39mfeature, pip_install\u001B[38;5;241m=\u001B[39m\u001B[38;5;28mself\u001B[39m\u001B[38;5;241m.\u001B[39m_install, msg\u001B[38;5;241m=\u001B[39m\u001B[38;5;28mself\u001B[39m\u001B[38;5;241m.\u001B[39m_msg\n\u001B[0;32m    223\u001B[0m )\n",
      "\u001B[1;31mMissingOptionalLibraryError\u001B[0m: \"The 'matplotlib' library is required to use 'MatplotlibDrawer'. You can install it with 'pip install matplotlib'.\""
     ]
    }
   ],
   "source": [
    "\n",
    "qc.draw('mpl')"
   ],
   "metadata": {
    "collapsed": false,
    "ExecuteTime": {
     "end_time": "2024-03-01T06:47:42.924910500Z",
     "start_time": "2024-03-01T06:47:42.660636500Z"
    }
   },
   "id": "d9a1e4872defaac4"
  },
  {
   "cell_type": "markdown",
   "source": [
    "# Use Aer's qasm_simulator"
   ],
   "metadata": {
    "collapsed": false
   },
   "id": "fbb90937f2c9e9b9"
  },
  {
   "cell_type": "code",
   "execution_count": null,
   "outputs": [],
   "source": [
    "simulator = Aer.get_backend('qasm_simulator')"
   ],
   "metadata": {
    "collapsed": false,
    "ExecuteTime": {
     "end_time": "2024-03-01T06:47:42.930915800Z",
     "start_time": "2024-03-01T06:47:42.924910500Z"
    }
   },
   "id": "68afeea3395c3613"
  },
  {
   "cell_type": "markdown",
   "source": [
    "# Execute the circuit on the qasm simulator"
   ],
   "metadata": {
    "collapsed": false
   },
   "id": "fbf04a1186816cb2"
  },
  {
   "cell_type": "code",
   "execution_count": null,
   "outputs": [],
   "source": [
    "job = execute(qc, simulator, shots=1024)"
   ],
   "metadata": {
    "collapsed": false,
    "ExecuteTime": {
     "start_time": "2024-03-01T06:47:42.927913100Z"
    }
   },
   "id": "37dcec26c0ebed40"
  },
  {
   "cell_type": "markdown",
   "source": [
    "# Grab results from the job"
   ],
   "metadata": {
    "collapsed": false
   },
   "id": "ed8fef2221bfbc40"
  },
  {
   "cell_type": "code",
   "execution_count": null,
   "outputs": [],
   "source": [
    "result = job.result()"
   ],
   "metadata": {
    "collapsed": false,
    "ExecuteTime": {
     "start_time": "2024-03-01T06:47:42.929914800Z"
    }
   },
   "id": "b0a84aa51b98575d"
  },
  {
   "cell_type": "markdown",
   "source": [
    "# Returns counts"
   ],
   "metadata": {
    "collapsed": false
   },
   "id": "b2314a317fffff4c"
  },
  {
   "cell_type": "code",
   "execution_count": null,
   "outputs": [],
   "source": [
    "counts = result.get_counts(qc)\n",
    "print(counts)"
   ],
   "metadata": {
    "collapsed": false,
    "ExecuteTime": {
     "start_time": "2024-03-01T06:47:42.930915800Z"
    }
   },
   "id": "65051ec582654b26"
  },
  {
   "cell_type": "markdown",
   "source": [
    "# Plot a histogram"
   ],
   "metadata": {
    "collapsed": false
   },
   "id": "9ed92c69e9c392f0"
  },
  {
   "cell_type": "code",
   "execution_count": null,
   "outputs": [],
   "source": [
    "plot_histogram(counts)"
   ],
   "metadata": {
    "collapsed": false,
    "ExecuteTime": {
     "start_time": "2024-03-01T06:47:42.931917200Z"
    }
   },
   "id": "6f4157ffd72c0c99"
  }
 ],
 "metadata": {
  "kernelspec": {
   "name": "python3",
   "language": "python",
   "display_name": "Python 3 (ipykernel)"
  }
 },
 "nbformat": 4,
 "nbformat_minor": 5
}
