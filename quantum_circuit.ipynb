{
 "cells": [
  {
   "cell_type": "markdown",
   "source": [
    "# Importing Qiskit library"
   ],
   "metadata": {
    "collapsed": false
   },
   "id": "4f62e765e5712f02"
  },
  {
   "cell_type": "markdown",
   "source": [
    "This is a sample example used to show how to determine if there are quantum bits that are not zero by a single measurement"
   ],
   "metadata": {
    "collapsed": false
   },
   "id": "ed18f957bdc7b83b"
  },
  {
   "cell_type": "code",
   "execution_count": 1,
   "outputs": [],
   "source": [
    "from qiskit import QuantumCircuit, execute, Aer\n",
    "from qiskit.visualization import plot_histogram"
   ],
   "metadata": {
    "collapsed": false,
    "ExecuteTime": {
     "end_time": "2024-03-07T02:47:48.892096Z",
     "start_time": "2024-03-07T02:47:47.145292Z"
    }
   },
   "id": "5b2b51fb60b5fb9e"
  },
  {
   "cell_type": "markdown",
   "source": [
    "# Create a quantum circuit with 3 target qubits and 1 ancilla qubit"
   ],
   "metadata": {
    "collapsed": false
   },
   "id": "25538d0accc6a55e"
  },
  {
   "cell_type": "code",
   "execution_count": 2,
   "outputs": [],
   "source": [
    "qc = QuantumCircuit(4, 1)"
   ],
   "metadata": {
    "collapsed": false,
    "ExecuteTime": {
     "end_time": "2024-03-07T02:48:03.914487Z",
     "start_time": "2024-03-07T02:48:03.901085Z"
    }
   },
   "id": "ca665257bdef876"
  },
  {
   "cell_type": "markdown",
   "source": [
    "# Apply Hadamard gate to all target qubits and the ancilla qubit"
   ],
   "metadata": {
    "collapsed": false
   },
   "id": "88ec3312b424360b"
  },
  {
   "cell_type": "code",
   "execution_count": 3,
   "outputs": [],
   "source": [
    "for i in range(4):\n",
    "    qc.h(i)"
   ],
   "metadata": {
    "collapsed": false,
    "ExecuteTime": {
     "end_time": "2024-03-07T02:48:06.942559Z",
     "start_time": "2024-03-07T02:48:06.938867Z"
    }
   },
   "id": "d77414a42b5aed0"
  },
  {
   "cell_type": "markdown",
   "source": [
    "# Apply CNOT gates from each target qubit to the ancilla qubit"
   ],
   "metadata": {
    "collapsed": false
   },
   "id": "d94efa29cb937090"
  },
  {
   "cell_type": "code",
   "execution_count": 4,
   "outputs": [],
   "source": [
    "for i in range(3):\n",
    "    qc.cx(i, 3)"
   ],
   "metadata": {
    "collapsed": false,
    "ExecuteTime": {
     "end_time": "2024-03-07T02:48:09.893180Z",
     "start_time": "2024-03-07T02:48:09.888472Z"
    }
   },
   "id": "b2ccee562a46650"
  },
  {
   "cell_type": "markdown",
   "source": [
    "# Apply another Hadamard gate to the ancilla qubit"
   ],
   "metadata": {
    "collapsed": false
   },
   "id": "2bbe34a562d78462"
  },
  {
   "cell_type": "code",
   "execution_count": 5,
   "outputs": [
    {
     "data": {
      "text/plain": "<qiskit.circuit.instructionset.InstructionSet at 0x1222cb9a0>"
     },
     "execution_count": 5,
     "metadata": {},
     "output_type": "execute_result"
    }
   ],
   "source": [
    "qc.h(3)"
   ],
   "metadata": {
    "collapsed": false,
    "ExecuteTime": {
     "end_time": "2024-03-07T02:48:12.209443Z",
     "start_time": "2024-03-07T02:48:12.191710Z"
    }
   },
   "id": "263dc43ff12c8632"
  },
  {
   "cell_type": "markdown",
   "source": [
    "# Measure the ancilla qubit"
   ],
   "metadata": {
    "collapsed": false
   },
   "id": "1d18d73dcc7522ec"
  },
  {
   "cell_type": "code",
   "execution_count": 6,
   "outputs": [
    {
     "data": {
      "text/plain": "<qiskit.circuit.instructionset.InstructionSet at 0x117c4b490>"
     },
     "execution_count": 6,
     "metadata": {},
     "output_type": "execute_result"
    }
   ],
   "source": [
    "qc.measure(3, 0)"
   ],
   "metadata": {
    "collapsed": false,
    "ExecuteTime": {
     "end_time": "2024-03-07T02:48:14.023353Z",
     "start_time": "2024-03-07T02:48:14.017562Z"
    }
   },
   "id": "134bf80912855981"
  },
  {
   "cell_type": "markdown",
   "source": [
    "# Visualize the circuit"
   ],
   "metadata": {
    "collapsed": false
   },
   "id": "c385cb80e8ae01b1"
  },
  {
   "cell_type": "code",
   "execution_count": 7,
   "outputs": [
    {
     "name": "stderr",
     "output_type": "stream",
     "text": [
      "/Library/Frameworks/Python.framework/Versions/3.11/lib/python3.11/site-packages/qiskit/visualization/circuit/matplotlib.py:266: FutureWarning: The default matplotlib drawer scheme will be changed to \"iqp\" in a following release. To silence this warning, specify the current default explicitly as style=\"clifford\", or the new default as style=\"iqp\".\n",
      "  self._style, def_font_ratio = load_style(self._style)\n"
     ]
    },
    {
     "data": {
      "text/plain": "<Figure size 621.941x451.5 with 1 Axes>",
      "image/png": "[encoded data removed]"
     },
     "execution_count": 7,
     "metadata": {},
     "output_type": "execute_result"
    }
   ],
   "source": [
    "\n",
    "qc.draw('mpl')"
   ],
   "metadata": {
    "collapsed": false,
    "ExecuteTime": {
     "end_time": "2024-03-07T02:48:16.246470Z",
     "start_time": "2024-03-07T02:48:15.692693Z"
    }
   },
   "id": "d9a1e4872defaac4"
  },
  {
   "cell_type": "markdown",
   "source": [
    "# Use Aer's qasm_simulator"
   ],
   "metadata": {
    "collapsed": false
   },
   "id": "fbb90937f2c9e9b9"
  },
  {
   "cell_type": "code",
   "execution_count": 9,
   "outputs": [],
   "source": [
    "simulator = Aer.get_backend('qasm_simulator')"
   ],
   "metadata": {
    "collapsed": false,
    "ExecuteTime": {
     "end_time": "2024-03-07T02:48:58.892367Z",
     "start_time": "2024-03-07T02:48:58.861939Z"
    }
   },
   "id": "68afeea3395c3613"
  },
  {
   "cell_type": "markdown",
   "source": [
    "# Execute the circuit on the qasm simulator"
   ],
   "metadata": {
    "collapsed": false
   },
   "id": "fbf04a1186816cb2"
  },
  {
   "cell_type": "code",
   "execution_count": 10,
   "outputs": [],
   "source": [
    "job = execute(qc, simulator, shots=1024)"
   ],
   "metadata": {
    "collapsed": false,
    "ExecuteTime": {
     "end_time": "2024-03-07T02:49:01.144270Z",
     "start_time": "2024-03-07T02:49:01.055861Z"
    }
   },
   "id": "37dcec26c0ebed40"
  },
  {
   "cell_type": "markdown",
   "source": [
    "# Grab results from the job"
   ],
   "metadata": {
    "collapsed": false
   },
   "id": "ed8fef2221bfbc40"
  },
  {
   "cell_type": "code",
   "execution_count": 11,
   "outputs": [],
   "source": [
    "result = job.result()"
   ],
   "metadata": {
    "collapsed": false,
    "ExecuteTime": {
     "end_time": "2024-03-07T02:49:02.615160Z",
     "start_time": "2024-03-07T02:49:02.603977Z"
    }
   },
   "id": "b0a84aa51b98575d"
  },
  {
   "cell_type": "markdown",
   "source": [
    "# Returns counts"
   ],
   "metadata": {
    "collapsed": false
   },
   "id": "b2314a317fffff4c"
  },
  {
   "cell_type": "code",
   "execution_count": 12,
   "outputs": [
    {
     "name": "stdout",
     "output_type": "stream",
     "text": [
      "{'0': 1024}\n"
     ]
    }
   ],
   "source": [
    "counts = result.get_counts(qc)\n",
    "print(counts)"
   ],
   "metadata": {
    "collapsed": false,
    "ExecuteTime": {
     "end_time": "2024-03-07T02:49:04.206296Z",
     "start_time": "2024-03-07T02:49:04.201874Z"
    }
   },
   "id": "65051ec582654b26"
  },
  {
   "cell_type": "markdown",
   "source": [
    "# Plot a histogram"
   ],
   "metadata": {
    "collapsed": false
   },
   "id": "9ed92c69e9c392f0"
  },
  {
   "cell_type": "code",
   "execution_count": 13,
   "outputs": [
    {
     "data": {
      "text/plain": "<Figure size 700x500 with 1 Axes>",
      "image/png": "[encoded data removed]"
     },
     "execution_count": 13,
     "metadata": {},
     "output_type": "execute_result"
    }
   ],
   "source": [
    "plot_histogram(counts)"
   ],
   "metadata": {
    "collapsed": false,
    "ExecuteTime": {
     "end_time": "2024-03-07T02:49:06.867069Z",
     "start_time": "2024-03-07T02:49:06.797966Z"
    }
   },
   "id": "6f4157ffd72c0c99"
  }
 ],
 "metadata": {
  "kernelspec": {
   "name": "python3",
   "language": "python",
   "display_name": "Python 3 (ipykernel)"
  }
 },
 "nbformat": 4,
 "nbformat_minor": 5
}
