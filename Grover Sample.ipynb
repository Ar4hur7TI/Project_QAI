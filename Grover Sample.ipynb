{
 "cells": [
  {
   "cell_type": "markdown",
   "source": [
    "# Grover Algorithm\n",
    "## Introduction\n",
    "Grover's algorithm is a quantum algorithm that finds with high probability the unique input to a black box function that produces a particular output value, using just O(√N) evaluations of the function, where N is the size of the function's domain. It was devised by Lov Grover in 1996."
   ],
   "metadata": {
    "collapsed": false
   },
   "id": "7f0473e192cd62ce"
  },
  {
   "cell_type": "markdown",
   "source": [
    "References: https://github.com/OriginQ/QRunes/blob/master/source/chapters/algorithms/Grover_Algorithm.rst"
   ],
   "metadata": {
    "collapsed": false
   },
   "id": "83377e6e6618a2b5"
  },
  {
   "cell_type": "markdown",
   "source": [
    "## Importing the required libraries"
   ],
   "metadata": {
    "collapsed": false
   },
   "id": "27675352d62ed9d8"
  },
  {
   "cell_type": "code",
   "execution_count": 24,
   "id": "initial_id",
   "metadata": {
    "collapsed": true,
    "ExecuteTime": {
     "end_time": "2024-03-15T00:48:17.447294800Z",
     "start_time": "2024-03-15T00:48:17.439406400Z"
    }
   },
   "outputs": [],
   "source": [
    "from qiskit import QuantumCircuit, ClassicalRegister, QuantumRegister\n",
    "from qiskit_aer import Aer\n",
    "from qiskit.compiler import transpile\n",
    "from qiskit.visualization import circuit_drawer"
   ]
  },
  {
   "cell_type": "markdown",
   "source": [
    "## Functions\n",
    "### Generate 3-qubit Oracle"
   ],
   "metadata": {
    "collapsed": false
   },
   "id": "19ab96ef93393196"
  },
  {
   "cell_type": "code",
   "execution_count": 25,
   "outputs": [],
   "source": [
    "def generate_3_qubit_oracle(target):\n",
    "    qc = QuantumCircuit(3)\n",
    "    if target == 0:\n",
    "        qc.x([0, 1])\n",
    "        qc.ccx(0, 1, 2)\n",
    "        qc.x([0, 1])\n",
    "    elif target == 1:\n",
    "        qc.x(0)\n",
    "        qc.ccx(0, 1, 2)\n",
    "        qc.x(0)\n",
    "    elif target == 2:\n",
    "        qc.x(1)\n",
    "        qc.ccx(0, 1, 2)\n",
    "        qc.x(1)\n",
    "    elif target == 3:\n",
    "        qc.ccx(0, 1, 2)\n",
    "    return qc"
   ],
   "metadata": {
    "collapsed": false,
    "ExecuteTime": {
     "end_time": "2024-03-15T00:48:17.457307200Z",
     "start_time": "2024-03-15T00:48:17.443236700Z"
    }
   },
   "id": "1a59f469305913ae"
  },
  {
   "cell_type": "markdown",
   "source": [
    "### Diffusion Operator"
   ],
   "metadata": {
    "collapsed": false
   },
   "id": "c2b4526bd4674bee"
  },
  {
   "cell_type": "code",
   "execution_count": 26,
   "outputs": [],
   "source": [
    "def diffusion_operator(qc, qubits):\n",
    "    qc.h(qubits)\n",
    "    qc.x(qubits)\n",
    "    qc.h(qubits[-1])\n",
    "    qc.mcx(list(range(len(qubits) - 1)), qubits[-1])  # Updated to mcx\n",
    "    qc.h(qubits[-1])\n",
    "    qc.x(qubits)\n",
    "    qc.h(qubits)"
   ],
   "metadata": {
    "collapsed": false,
    "ExecuteTime": {
     "end_time": "2024-03-15T00:48:17.457307200Z",
     "start_time": "2024-03-15T00:48:17.450298700Z"
    }
   },
   "id": "a4665f9babcd87d5"
  },
  {
   "cell_type": "markdown",
   "source": [
    "### Grover Algorithm"
   ],
   "metadata": {
    "collapsed": false
   },
   "id": "7034ba9fe69ee30b"
  },
  {
   "cell_type": "code",
   "execution_count": 27,
   "outputs": [],
   "source": [
    "def grover_algorithm(target):\n",
    "    qr = QuantumRegister(3)\n",
    "    cr = ClassicalRegister(2)\n",
    "    qc = QuantumCircuit(qr, cr)\n",
    "\n",
    "    # Prepare the ancilla qubit\n",
    "    qc.x(qr[2])\n",
    "    qc.h(qr[2])\n",
    "\n",
    "    # Apply Hadamard gates to the working qubits\n",
    "    qc.h(qr[:2])\n",
    "\n",
    "    # Append the oracle\n",
    "    oracle = generate_3_qubit_oracle(target)\n",
    "    qc.compose(oracle, inplace=True)\n",
    "\n",
    "    # Apply the diffusion operator\n",
    "    diffusion_operator(qc, qr[:2])\n",
    "\n",
    "    # Measure the working qubits\n",
    "    qc.measure(qr[:2], cr[:2])\n",
    "\n",
    "    # Updated execution process\n",
    "    backend = Aer.get_backend('qasm_simulator')  # Directly using qiskit_aer\n",
    "    transpiled_qc = transpile(qc, backend)  # Transpile the circuit for the backend\n",
    "    job = backend.run(transpiled_qc, shots=1)  # Execute the quantum circuit\n",
    "    result = job.result()\n",
    "    counts = result.get_counts(qc)\n",
    "    print(counts)"
   ],
   "metadata": {
    "collapsed": false,
    "ExecuteTime": {
     "end_time": "2024-03-15T00:48:17.463965300Z",
     "start_time": "2024-03-15T00:48:17.461311100Z"
    }
   },
   "id": "834c462b070b167a"
  },
  {
   "cell_type": "markdown",
   "source": [
    "## Main"
   ],
   "metadata": {
    "collapsed": false
   },
   "id": "71ddcb6e196654d6"
  },
  {
   "cell_type": "code",
   "execution_count": 28,
   "outputs": [
    {
     "name": "stdout",
     "output_type": "stream",
     "text": [
      "Target is 0!\n",
      "Circuit being configured...\n",
      "{'00': 1}\n",
      "Circuit configuration complete for target 0.\n",
      "\n",
      "Target is 1!\n",
      "Circuit being configured...\n",
      "{'10': 1}\n",
      "Circuit configuration complete for target 1.\n",
      "\n",
      "Target is 2!\n",
      "Circuit being configured...\n",
      "{'01': 1}\n",
      "Circuit configuration complete for target 2.\n",
      "\n",
      "Target is 3!\n",
      "Circuit being configured...\n",
      "{'11': 1}\n",
      "Circuit configuration complete for target 3.\n"
     ]
    }
   ],
   "source": [
    "if __name__ == '__main__':\n",
    "    for target in range(4):\n",
    "        print(\"Target is \" + str(target) + \"!\")\n",
    "        print(\"Circuit being configured...\")\n",
    "        grover_algorithm(target)\n",
    "        print(\"Circuit configuration complete for target {}.\\n\".format(target))"
   ],
   "metadata": {
    "collapsed": false,
    "ExecuteTime": {
     "end_time": "2024-03-15T00:48:17.500148100Z",
     "start_time": "2024-03-15T00:48:17.463965300Z"
    }
   },
   "id": "729a3bb6114c5989"
  }
 ],
 "metadata": {
  "kernelspec": {
   "display_name": "Python 3",
   "language": "python",
   "name": "python3"
  },
  "language_info": {
   "codemirror_mode": {
    "name": "ipython",
    "version": 2
   },
   "file_extension": ".py",
   "mimetype": "text/x-python",
   "name": "python",
   "nbconvert_exporter": "python",
   "pygments_lexer": "ipython2",
   "version": "2.7.6"
  }
 },
 "nbformat": 4,
 "nbformat_minor": 5
}
