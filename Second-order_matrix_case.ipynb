{
 "cells": [
  {
   "cell_type": "markdown",
   "source": [
    "# Second-order matrix case"
   ],
   "metadata": {
    "collapsed": false
   },
   "id": "319440d5d2fa6e14"
  },
  {
   "cell_type": "code",
   "execution_count": 37,
   "outputs": [],
   "source": [
    "from qiskit import QuantumRegister, ClassicalRegister, QuantumCircuit, transpile\n",
    "from qiskit_aer import Aer\n",
    "import networkx as nx\n",
    "import matplotlib.pyplot as plt"
   ],
   "metadata": {
    "collapsed": false,
    "ExecuteTime": {
     "end_time": "2024-03-07T14:52:16.588782800Z",
     "start_time": "2024-03-07T14:52:16.556411300Z"
    }
   },
   "id": "c73ed4c8cae6db5f"
  },
  {
   "cell_type": "code",
   "execution_count": 38,
   "outputs": [
    {
     "data": {
      "text/plain": "<Figure size 640x480 with 1 Axes>",
      "image/png": "[encoded data removed]"
     },
     "metadata": {},
     "output_type": "display_data"
    }
   ],
   "source": [
    "G = nx.DiGraph()\n",
    "\n",
    "G.add_nodes_from([0, 1])\n",
    "\n",
    "edges = [(0, 1, {'capacity': 1})]\n",
    "\n",
    "G.add_edges_from(edges)\n",
    "\n",
    "pos = nx.spring_layout(G)\n",
    "nx.draw(G, pos, with_labels=True, node_color='skyblue', node_size=1500, edge_color='k', linewidths=1, font_size=16,\n",
    "        arrows=True, arrowsize=20)\n",
    "labels = nx.get_edge_attributes(G, 'capacity')\n",
    "nx.draw_networkx_edge_labels(G, pos, edge_labels=labels)\n",
    "plt.title('Directed Graph with Edge Capacities')\n",
    "plt.show()\n"
   ],
   "metadata": {
    "collapsed": false,
    "ExecuteTime": {
     "end_time": "2024-03-07T14:52:16.706007500Z",
     "start_time": "2024-03-07T14:52:16.591785300Z"
    }
   },
   "id": "61932c77f2aa47ab"
  },
  {
   "cell_type": "code",
   "execution_count": 39,
   "outputs": [
    {
     "data": {
      "text/plain": "<qiskit.circuit.instructionset.InstructionSet at 0x2d5fb59b220>"
     },
     "execution_count": 39,
     "metadata": {},
     "output_type": "execute_result"
    }
   ],
   "source": [
    "qreg_q = QuantumRegister(1, 'q')\n",
    "creg_c = ClassicalRegister(1, 'c')\n",
    "circuit = QuantumCircuit(qreg_q, creg_c)\n",
    "\n",
    "circuit.x(qreg_q[0])\n",
    "\n",
    "circuit.measure(qreg_q[0], creg_c[0])"
   ],
   "metadata": {
    "collapsed": false,
    "ExecuteTime": {
     "end_time": "2024-03-07T14:52:16.708749Z",
     "start_time": "2024-03-07T14:52:16.705006500Z"
    }
   },
   "id": "2edadbf579879d4b"
  },
  {
   "cell_type": "code",
   "execution_count": 40,
   "outputs": [
    {
     "name": "stdout",
     "output_type": "stream",
     "text": [
      "dict_keys(['1'])\n",
      "dict_values([1024])\n"
     ]
    }
   ],
   "source": [
    "simulator = Aer.get_backend('qasm_simulator')\n",
    "transpiled_circuit = transpile(circuit, simulator)\n",
    "\n",
    "job = simulator.run(transpiled_circuit, shots=1024)\n",
    "result = job.result()\n",
    "counts = result.get_counts(circuit)\n",
    "print(counts.keys())\n",
    "print(counts.values())"
   ],
   "metadata": {
    "collapsed": false,
    "ExecuteTime": {
     "end_time": "2024-03-07T14:52:16.774693600Z",
     "start_time": "2024-03-07T14:52:16.709749200Z"
    }
   },
   "id": "55264d7381f3b0e"
  },
  {
   "cell_type": "code",
   "execution_count": 41,
   "outputs": [
    {
     "name": "stdout",
     "output_type": "stream",
     "text": [
      "The edge exists\n"
     ]
    }
   ],
   "source": [
    "if '1' in counts.keys():\n",
    "    print('The edge exists')\n",
    "else:\n",
    "    print('The edge does not exist')"
   ],
   "metadata": {
    "collapsed": false,
    "ExecuteTime": {
     "end_time": "2024-03-07T14:52:16.775694600Z",
     "start_time": "2024-03-07T14:52:16.726165100Z"
    }
   },
   "id": "6aa8d3adb5ece1"
  },
  {
   "cell_type": "markdown",
   "source": [
    "Suppose that there are N vertices, and that there is one and only one edge between each vertex that is directed and has weight 1. The number of edges is not greater than N(N-1). I use a matrix to represent whether or not there is an edge between each vertex, with the x-axis as the starting point and the y-axis as the end point. Because quantum circuits do not support many of the data structures found in classical circuits, a prescribed way of recording the data structures is used."
   ],
   "metadata": {
    "collapsed": false
   },
   "id": "6a3ec46f71bfa646"
  },
  {
   "cell_type": "markdown",
   "source": [
    "Next demonstrate a directed graph with two nodes."
   ],
   "metadata": {
    "collapsed": false
   },
   "id": "2c0a67808c5ff4ad"
  },
  {
   "cell_type": "code",
   "execution_count": 42,
   "outputs": [],
   "source": [
    "edges = [(0, 1, {'capacity': 1})]"
   ],
   "metadata": {
    "collapsed": false,
    "ExecuteTime": {
     "end_time": "2024-03-07T14:52:16.775694600Z",
     "start_time": "2024-03-07T14:52:16.731304600Z"
    }
   },
   "id": "c6bc2a04a588929d"
  },
  {
   "cell_type": "markdown",
   "source": [
    "The matrix representation of this graph is:"
   ],
   "metadata": {
    "collapsed": false
   },
   "id": "5c9f11b8a17e1375"
  },
  {
   "cell_type": "code",
   "execution_count": 43,
   "outputs": [],
   "source": [
    "matrix = [[0, 1],\n",
    "          [0, 0]]"
   ],
   "metadata": {
    "collapsed": false,
    "ExecuteTime": {
     "end_time": "2024-03-07T14:52:16.775694600Z",
     "start_time": "2024-03-07T14:52:16.734808500Z"
    }
   },
   "id": "736c7d2620c74c50"
  },
  {
   "cell_type": "markdown",
   "source": [
    "Since a quantum bit can only store one value, I use four quantum bits to represent this matrix.\n",
    "The first quantum bit represents the first row and first column of the matrix, the second quantum bit represents the first row and second column of the matrix , the third quantum bit represents the second row and first column of the matrix, and the fourth quantum bit represents the second column and second column of the matrix. If the value of the quantum bit is 1, it means there is an edge, otherwise it means there is no edge."
   ],
   "metadata": {
    "collapsed": false
   },
   "id": "41a6aa13b001757"
  },
  {
   "cell_type": "code",
   "execution_count": 44,
   "outputs": [
    {
     "name": "stdout",
     "output_type": "stream",
     "text": [
      "     ┌───┐                  \n",
      "q_0: ┤ H ├───────■──────────\n",
      "     ├───┤┌───┐┌─┴─┐┌───┐┌─┐\n",
      "q_1: ┤ X ├┤ H ├┤ X ├┤ H ├┤M├\n",
      "     └───┘└───┘└───┘└───┘└╥┘\n",
      "c: 1/═════════════════════╩═\n",
      "                          0 \n"
     ]
    }
   ],
   "source": [
    "qreg_q = QuantumRegister(2, 'q')\n",
    "creg_c = ClassicalRegister(1, 'c')\n",
    "circuit = QuantumCircuit(qreg_q, creg_c)\n",
    "\n",
    "circuit.x(qreg_q[1])\n",
    "circuit.h(qreg_q[0])\n",
    "circuit.h(qreg_q[1])\n",
    "circuit.cx(qreg_q[0], qreg_q[1])\n",
    "circuit.h(qreg_q[1])\n",
    "\n",
    "circuit.measure(qreg_q[1], creg_c[0])\n",
    "\n",
    "print(circuit)"
   ],
   "metadata": {
    "collapsed": false,
    "ExecuteTime": {
     "end_time": "2024-03-07T14:52:16.796610800Z",
     "start_time": "2024-03-07T14:52:16.741241800Z"
    }
   },
   "id": "a119c2564bf6cedc"
  },
  {
   "cell_type": "code",
   "execution_count": 45,
   "outputs": [
    {
     "name": "stdout",
     "output_type": "stream",
     "text": [
      "dict_keys(['1'])\n",
      "dict_values([1024])\n"
     ]
    }
   ],
   "source": [
    "simulator = Aer.get_backend('qasm_simulator')\n",
    "transpiled_circuit = transpile(circuit, simulator)\n",
    "\n",
    "job = simulator.run(transpiled_circuit, shots=1024)\n",
    "result = job.result()\n",
    "counts = result.get_counts(circuit)\n",
    "print(counts.keys())\n",
    "print(counts.values())"
   ],
   "metadata": {
    "collapsed": false,
    "ExecuteTime": {
     "end_time": "2024-03-07T14:52:16.796610800Z",
     "start_time": "2024-03-07T14:52:16.749069900Z"
    }
   },
   "id": "edd19b35d8343c44"
  },
  {
   "cell_type": "markdown",
   "source": [
    "Enhanced Suitability encapsulates it with the parameters matrix, the start and end points of the edge, and the return value whether this edge exists or not."
   ],
   "metadata": {
    "collapsed": false
   },
   "id": "49262663e9a0c11b"
  },
  {
   "cell_type": "code",
   "execution_count": 46,
   "outputs": [],
   "source": [
    "def is_edge_exist(matrix, start, end):\n",
    "    qreg_q = QuantumRegister(2, 'q')\n",
    "    creg_c = ClassicalRegister(1, 'c')\n",
    "    circuit = QuantumCircuit(qreg_q, creg_c)\n",
    "\n",
    "    if matrix[start][end] == 1:\n",
    "        circuit.x(qreg_q[1])\n",
    "    circuit.h(qreg_q[0])\n",
    "    circuit.h(qreg_q[1])\n",
    "    circuit.cx(qreg_q[0], qreg_q[1])\n",
    "    circuit.h(qreg_q[1])\n",
    "\n",
    "    circuit.measure(qreg_q[1], creg_c[0])\n",
    "\n",
    "    simulator = Aer.get_backend('qasm_simulator')\n",
    "    transpiled_circuit = transpile(circuit, simulator)\n",
    "\n",
    "    job = simulator.run(transpiled_circuit, shots=1024)\n",
    "    result = job.result()\n",
    "    counts = result.get_counts(circuit)\n",
    "    if '1' in counts.keys():\n",
    "        return True\n",
    "    else:\n",
    "        return False"
   ],
   "metadata": {
    "collapsed": false,
    "ExecuteTime": {
     "end_time": "2024-03-07T14:52:16.797611700Z",
     "start_time": "2024-03-07T14:52:16.763704900Z"
    }
   },
   "id": "9e2b00371e09bef0"
  },
  {
   "cell_type": "markdown",
   "source": [
    "Test the function"
   ],
   "metadata": {
    "collapsed": false
   },
   "id": "784f40f082546aab"
  },
  {
   "cell_type": "code",
   "execution_count": 47,
   "outputs": [
    {
     "name": "stdout",
     "output_type": "stream",
     "text": [
      "True\n",
      "False\n"
     ]
    }
   ],
   "source": [
    "matrix = [[0, 1],\n",
    "          [0, 0]]\n",
    "print(is_edge_exist(matrix, 0, 1))\n",
    "print(is_edge_exist(matrix, 1, 0))"
   ],
   "metadata": {
    "collapsed": false,
    "ExecuteTime": {
     "end_time": "2024-03-07T14:52:16.798612700Z",
     "start_time": "2024-03-07T14:52:16.767687400Z"
    }
   },
   "id": "86eb6cbe4d7ff98d"
  }
 ],
 "metadata": {
  "kernelspec": {
   "display_name": "Python 3",
   "language": "python",
   "name": "python3"
  },
  "language_info": {
   "codemirror_mode": {
    "name": "ipython",
    "version": 2
   },
   "file_extension": ".py",
   "mimetype": "text/x-python",
   "name": "python",
   "nbconvert_exporter": "python",
   "pygments_lexer": "ipython2",
   "version": "2.7.6"
  }
 },
 "nbformat": 4,
 "nbformat_minor": 5
}
